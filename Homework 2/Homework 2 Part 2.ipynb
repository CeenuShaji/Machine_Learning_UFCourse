{
 "cells": [
  {
   "cell_type": "markdown",
   "metadata": {},
   "source": [
    "# Homework 2 Part 2"
   ]
  },
  {
   "cell_type": "markdown",
   "metadata": {},
   "source": [
    "**This is an indiviual assignment.**"
   ]
  },
  {
   "cell_type": "code",
   "execution_count": null,
   "metadata": {},
   "outputs": [],
   "source": [
    "# Import necessary libraries and magics\n",
    "\n"
   ]
  },
  {
   "cell_type": "markdown",
   "metadata": {},
   "source": [
    "# Problem 1 (17.5 points)\n",
    "\n",
    "In this data you will working with the [Wine Dataset](https://archive.ics.uci.edu/ml/datasets/wine):"
   ]
  },
  {
   "cell_type": "code",
   "execution_count": null,
   "metadata": {},
   "outputs": [],
   "source": [
    "from sklearn.datasets import load_wine\n",
    "\n",
    "wine = load_wine(return_X_y=False)\n",
    "print(wine.DESCR)"
   ]
  },
  {
   "cell_type": "markdown",
   "metadata": {},
   "source": [
    "Let's load this data into a ```pandas``` dataframe:"
   ]
  },
  {
   "cell_type": "code",
   "execution_count": null,
   "metadata": {},
   "outputs": [],
   "source": [
    "import pandas as pd\n",
    "\n",
    "df = pd.DataFrame(np.hstack((wine.target[:,np.newaxis],wine.data)), columns=['Class']+wine.feature_names)\n",
    "df"
   ]
  },
  {
   "cell_type": "markdown",
   "metadata": {},
   "source": [
    "## Problem Set\n",
    "\n",
    "Answer the following questions:\n",
    "\n",
    "1. (9 points) Implement k-Means for the 13 wine features. Use the silhouette index and rand index to determine which value of $k$ best works for this data. Justify your answer."
   ]
  },
  {
   "cell_type": "code",
   "execution_count": null,
   "metadata": {},
   "outputs": [],
   "source": []
  },
  {
   "cell_type": "code",
   "execution_count": null,
   "metadata": {},
   "outputs": [],
   "source": []
  },
  {
   "cell_type": "code",
   "execution_count": null,
   "metadata": {},
   "outputs": [],
   "source": []
  },
  {
   "cell_type": "code",
   "execution_count": null,
   "metadata": {},
   "outputs": [],
   "source": []
  },
  {
   "cell_type": "markdown",
   "metadata": {},
   "source": [
    "2. (8.5 points) For the *optimal* value of $k$ found in the previous question, predict the clustering labels. Compute the silhouette index and the rand index for the predicted labels."
   ]
  },
  {
   "cell_type": "code",
   "execution_count": null,
   "metadata": {},
   "outputs": [],
   "source": []
  },
  {
   "cell_type": "code",
   "execution_count": null,
   "metadata": {},
   "outputs": [],
   "source": []
  },
  {
   "cell_type": "code",
   "execution_count": null,
   "metadata": {},
   "outputs": [],
   "source": []
  },
  {
   "cell_type": "code",
   "execution_count": null,
   "metadata": {},
   "outputs": [],
   "source": []
  },
  {
   "cell_type": "markdown",
   "metadata": {},
   "source": [
    "---"
   ]
  },
  {
   "cell_type": "markdown",
   "metadata": {},
   "source": [
    "# Problem 2 (15 points)\n",
    "\n",
    "The starter code below is an incomplete implementation of the EM algorithm to optimize a Gaussian Mixture Model data likelihood.\n",
    "\n",
    "In this problem, you will complete the provided code by filling in the empty slots (do not use any library or online implementations)."
   ]
  },
  {
   "cell_type": "code",
   "execution_count": null,
   "metadata": {},
   "outputs": [],
   "source": [
    "import numpy as np\n",
    "from scipy.stats import multivariate_normal\n",
    "import matplotlib.pyplot as plt\n",
    "%matplotlib inline"
   ]
  },
  {
   "cell_type": "code",
   "execution_count": null,
   "metadata": {},
   "outputs": [],
   "source": [
    "def EM_GaussianMixture(X, NumComponents, MaximumNumberOfIterations=100, DiffThresh=1e-4, display=False):\n",
    "    '''This function implements the EM algorithm for a Gaussian Mixture Model\n",
    "    \n",
    "    Input:\n",
    "    X - n-d array of size N-by-D (feature matrix).\n",
    "    NumComponents - integer (>0). Number of Gaussian components.\n",
    "    MaximumNumberOfIterations - integer (>0). Maximum number of EM steps or iterations.\n",
    "    DiffThresh - float (>=0). Convergence criteria measuring difference between consecutive point estimators.\n",
    "    \n",
    "    Output:\n",
    "    Means - n-d array of size (NumComponents)x(D). Estimated Gaussian means.\n",
    "    Sigs - n-d array of size (D)x(D)x(NumComponents). Estimated covariance matrices.\n",
    "    Ps - n-d array of size (NumComponents)x1. Estimated probability contribution for each mixture (pis).\n",
    "    pZ_X - n-darray of size (N)x(NumComponents). Estimated membership probabilities for each data point in each component, P(zi|xi).'''\n",
    "    \n",
    "    # Size of the input data: N number of points, D features\n",
    "    N, D = X.shape\n",
    "\n",
    "    # Initialize Parameters of each Component K\n",
    "    Means = np.zeros((NumComponents,D))\n",
    "    Sigs = np.zeros(((D, D, NumComponents)))\n",
    "    Ps = np.zeros(NumComponents)\n",
    "    for i in range(NumComponents):\n",
    "        rVal = np.random.uniform(0,1)\n",
    "        Means[i,:] = X[max(1,round(N*rVal)),:]\n",
    "        Sigs[:,:,i] = 1*np.eye(D)\n",
    "        Ps[i] = 1/NumComponents\n",
    "\n",
    "    # E-Step Solve for p(z | x, Theta(t)) = Cik\n",
    "    pZ_X = np.zeros((N,NumComponents))\n",
    "    for k in range(NumComponents):\n",
    "        # Assign each point to a (multivariate) Gaussian component with probability pi(k)\n",
    "        pZ_X[:,k] = # COMPLETE THIS LINE\n",
    "    pZ_X = # COMPLETE THIS LINE\n",
    "\n",
    "    Diff = np.inf\n",
    "    NumberIterations = 1\n",
    "    while Diff > DiffThresh and NumberIterations < MaximumNumberOfIterations:\n",
    "        ## M-step: Update Means, Sigs, Ps\n",
    "        MeansOld = Means.copy()\n",
    "        SigsOld = Sigs.copy()\n",
    "        PsOld = Ps.copy()\n",
    "        for k in range(NumComponents):\n",
    "            ## Complete M-step: Update parameters\n",
    "            #Means\n",
    "            Means[k,:] = # COMPLETE THIS LINE\n",
    "\n",
    "            #Sigs\n",
    "            xDiff = X-MeansOld[k,:]            \n",
    "            J = np.zeros((D,D))\n",
    "            for i in range(N):\n",
    "                J = J + pZ_X[i,k]*np.outer(xDiff[i,:], xDiff[i,:])\n",
    "            Sigs[:,:,k] = J / sum(pZ_X[:,k])\n",
    "\n",
    "            #Ps\n",
    "            Ps[k] = # COMPLETE THIS LINE\n",
    "\n",
    "        ## E-step: Solve for p(z | x, Theta(t))\n",
    "        # Complete E-step\n",
    "        for k in range(NumComponents):\n",
    "            # Assign each point to a Gaussian component with probability pi(k)\n",
    "            pZ_X[:,k] = # COMPLETE THIS LINE\n",
    "        pZ_X = # COMPLETE THIS LINE\n",
    "\n",
    "        Diff = sum(sum(abs(MeansOld - Means))) + sum(sum(sum(abs(SigsOld - Sigs)))) + sum(abs(PsOld - Ps))\n",
    "        if display:\n",
    "            print('t = ',NumberIterations,': \\t', Diff)\n",
    "        NumberIterations = NumberIterations + 1\n",
    "    return Means, Sigs, Ps, pZ_X"
   ]
  },
  {
   "cell_type": "markdown",
   "metadata": {},
   "source": [
    "---"
   ]
  },
  {
   "cell_type": "markdown",
   "metadata": {},
   "source": [
    "# Problem 3 (15 points)\n",
    "\n",
    "Using your code in problem 3, determine the mixture proportion, mean and (diagonal) covariance associated with each of the mixture component in the data contained in ```mixture.txt```.\n",
    "\n",
    "In your solution include:\n",
    "\n",
    "* a plot where each data point is color-coded by their weight responsabilities (you have been provided with the plotting script).\n",
    "\n",
    "* a plot where each data point is color-coded by their cluster membership.\n",
    "\n",
    "Answer the following questions:\n",
    "\n",
    "1. How many mixture components are found in the data?\n",
    "\n",
    "2. How did you determine this?\n",
    "\n",
    "3. What did you estimate for the mixture components, means and covariances associated with each mixture component?"
   ]
  },
  {
   "cell_type": "code",
   "execution_count": null,
   "metadata": {},
   "outputs": [],
   "source": [
    "## Load Data\n",
    "X = np.loadtxt('mixture.txt')\n",
    "plt.scatter(X[:,0],X[:,1]);\n",
    "\n",
    "## Set number of components\n",
    "NumComponents = # COMPLETE THIS LINE\n",
    "EM_Means, EM_Sigs, EM_Ps, pZ_X = EM_GaussianMixture(X, NumComponents,50,0.1, True)\n",
    "\n",
    "print('EM Algorithm. # Components: ' + str(NumComponents))\n",
    "print('---------------------')\n",
    "for i in range(NumComponents):\n",
    "    print('Component '+str(i+1))\n",
    "    print('Estimated Means')\n",
    "    print(EM_Means[i,:])\n",
    "    print('Estimated Covariances')\n",
    "    print(EM_Sigs[:,:,i])\n",
    "    print('Estimated Weights')\n",
    "    print(EM_Ps[i])\n",
    "    print('---------------------')\n",
    "    \n",
    "fig = plt.figure(figsize=(15, 4))\n",
    "plt.suptitle('EM Algorithm')\n",
    "for i in range(NumComponents):\n",
    "    ax = fig.add_subplot(1,NumComponents,i+1)\n",
    "    p1 = ax.scatter(X[:,0], X[:,1], c=pZ_X[:,i]) \n",
    "    ax.set_title('Mean: '+ str(EM_Means[i,:]))\n",
    "    fig.colorbar(p1, ax=ax);"
   ]
  },
  {
   "cell_type": "code",
   "execution_count": null,
   "metadata": {},
   "outputs": [],
   "source": []
  },
  {
   "cell_type": "code",
   "execution_count": null,
   "metadata": {},
   "outputs": [],
   "source": []
  },
  {
   "cell_type": "code",
   "execution_count": null,
   "metadata": {},
   "outputs": [],
   "source": []
  },
  {
   "cell_type": "code",
   "execution_count": null,
   "metadata": {},
   "outputs": [],
   "source": []
  },
  {
   "cell_type": "code",
   "execution_count": null,
   "metadata": {},
   "outputs": [],
   "source": []
  },
  {
   "cell_type": "code",
   "execution_count": null,
   "metadata": {},
   "outputs": [],
   "source": []
  },
  {
   "cell_type": "markdown",
   "metadata": {},
   "source": [
    "___"
   ]
  }
 ],
 "metadata": {
  "kernelspec": {
   "display_name": "Python 3 (ipykernel)",
   "language": "python",
   "name": "python3"
  },
  "language_info": {
   "codemirror_mode": {
    "name": "ipython",
    "version": 3
   },
   "file_extension": ".py",
   "mimetype": "text/x-python",
   "name": "python",
   "nbconvert_exporter": "python",
   "pygments_lexer": "ipython3",
   "version": "3.9.12"
  },
  "latex_envs": {
   "LaTeX_envs_menu_present": true,
   "autoclose": true,
   "autocomplete": true,
   "bibliofile": "biblio.bib",
   "cite_by": "apalike",
   "current_citInitial": 1,
   "eqLabelWithNumbers": true,
   "eqNumInitial": 1,
   "hotkeys": {
    "equation": "Ctrl-E",
    "itemize": "Ctrl-I"
   },
   "labels_anchors": false,
   "latex_user_defs": false,
   "report_style_numbering": false,
   "user_envs_cfg": false
  },
  "varInspector": {
   "cols": {
    "lenName": 16,
    "lenType": 16,
    "lenVar": 40
   },
   "kernels_config": {
    "python": {
     "delete_cmd_postfix": "",
     "delete_cmd_prefix": "del ",
     "library": "var_list.py",
     "varRefreshCmd": "print(var_dic_list())"
    },
    "r": {
     "delete_cmd_postfix": ") ",
     "delete_cmd_prefix": "rm(",
     "library": "var_list.r",
     "varRefreshCmd": "cat(var_dic_list()) "
    }
   },
   "types_to_exclude": [
    "module",
    "function",
    "builtin_function_or_method",
    "instance",
    "_Feature"
   ],
   "window_display": false
  }
 },
 "nbformat": 4,
 "nbformat_minor": 2
}
